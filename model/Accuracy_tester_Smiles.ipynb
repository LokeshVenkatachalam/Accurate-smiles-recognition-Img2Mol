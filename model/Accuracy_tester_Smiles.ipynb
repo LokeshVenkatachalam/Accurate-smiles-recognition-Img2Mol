{
 "cells": [
  {
   "cell_type": "code",
   "execution_count": null,
   "metadata": {},
   "outputs": [],
   "source": [
    "from cddd.inference import InferenceModel\n",
    "import numpy as np\n",
    "from typing import List\n",
    "\n",
    "model = InferenceModel()"
   ]
  },
  {
   "cell_type": "code",
   "execution_count": null,
   "metadata": {},
   "outputs": [],
   "source": [
    "\n",
    "path = '/external/SMAI/Smiles/data/test-files'\n",
    "for i in range(1):\n",
    "    A = []\n",
    "    with open(f'/external/SMAI/Smiles/model/benchmark_predictions_4.pkl', \"rb\") as f:\n",
    "        data = np.load(f)\n",
    "        for x in data:\n",
    "            embedding = np.array(x)\n",
    "            seq = model.emb_to_seq(embedding)\n",
    "            A.append(seq)\n",
    "\n",
    "    B = []\n",
    "    with open(f'/external/SMAI/Smiles/model/benchmark_test_labels_4.pkl', \"rb\") as f:\n",
    "        data = np.load(f)\n",
    "        for x in data:\n",
    "            embedding = np.array(x)\n",
    "            seq = model.emb_to_seq(embedding)\n",
    "            B.append(seq)\n",
    "    \n",
    "    correct = 0\n",
    "    total = 0\n",
    "    for k in range(len(A)):\n",
    "        if A[k] == B[k]:\n",
    "            correct=correct+1\n",
    "        total=total+1\n",
    "        print(k)\n",
    "        print(A[k])\n",
    "        print(B[k])\n",
    "    print(total, correct, correct/total)"
   ]
  }
 ],
 "metadata": {
  "kernelspec": {
   "display_name": "Python 3.6.13 ('cddd': conda)",
   "language": "python",
   "name": "python3"
  },
  "language_info": {
   "codemirror_mode": {
    "name": "ipython",
    "version": 3
   },
   "file_extension": ".py",
   "mimetype": "text/x-python",
   "name": "python",
   "nbconvert_exporter": "python",
   "pygments_lexer": "ipython3",
   "version": "3.6.13"
  },
  "orig_nbformat": 4,
  "vscode": {
   "interpreter": {
    "hash": "fb0bce66576f8ae84d8c01ef02db532cac0df62caadc733bbfd7b98325549b95"
   }
  }
 },
 "nbformat": 4,
 "nbformat_minor": 2
}
